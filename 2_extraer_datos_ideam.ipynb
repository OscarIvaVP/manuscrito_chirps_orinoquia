{
 "cells": [
  {
   "cell_type": "code",
   "execution_count": 1,
   "id": "a201de29",
   "metadata": {},
   "outputs": [],
   "source": [
    "#Cargar librerias necesarias\n",
    "import pandas as pd\n",
    "import os"
   ]
  },
  {
   "cell_type": "code",
   "execution_count": 2,
   "id": "4fade01a",
   "metadata": {},
   "outputs": [],
   "source": [
    "# Carga el archivo Excel para obtener los nombres de las estaciones\n",
    "df_estaciones = pd.read_excel(\"datos_ideam/nombre_estaciones/estaciones_todas.xlsx\")  # Cambia esto por la ubicación real de tu archivo de Excel\n",
    "estaciones_a_filtrar = df_estaciones.iloc[:, 0].tolist()"
   ]
  },
  {
   "cell_type": "code",
   "execution_count": 3,
   "id": "ec76b985",
   "metadata": {},
   "outputs": [],
   "source": [
    "# Lista para almacenar los DataFrames\n",
    "dfs = []\n",
    "\n",
    "# Iterar solo sobre los archivos que corresponden a las estaciones en la lista\n",
    "for estacion in estaciones_a_filtrar:\n",
    "    filename = f\"datos_ideam/pp_ideam_crudos/{estacion}.data\"  # Asegúrate de que este formato coincide con tus archivos\n",
    "    # Verifica si el archivo existe\n",
    "    if os.path.exists(filename):\n",
    "        # Leer el archivo en un DataFrame, especificando el delimitador\n",
    "        df = pd.read_csv(filename, delimiter='|', parse_dates=['Fecha'])\n",
    "        # Utilizar la columna \"Fecha\" como índice\n",
    "        df.set_index('Fecha', inplace=True)\n",
    "        # Cambiar el nombre de la columna de precipitación al nombre del archivo (sin extensión)\n",
    "        df.rename(columns={\"Valor\": estacion}, inplace=True)\n",
    "        # Añadir el DataFrame a la lista\n",
    "        dfs.append(df)\n",
    "    else:\n",
    "        print(f\"El archivo para la estación {estacion} no se encontró.\")"
   ]
  },
  {
   "cell_type": "code",
   "execution_count": 4,
   "id": "6a92470b",
   "metadata": {},
   "outputs": [],
   "source": [
    "# Concatenar todos los DataFrames\n",
    "result = pd.concat(dfs, axis=1)\n",
    "# Ordenar el DataFrame por la columna 'Fecha'\n",
    "result.sort_index(inplace=True)\n",
    "# Cargar el archivo Excel con los nombres de las estaciones\n",
    "df_nombres = pd.read_excel(\"datos_ideam/nombre_estaciones/nombre_estaciones.xlsx\")\n",
    "# Crear un diccionario para mapear los códigos a los nombres\n",
    "mapa_nombres = pd.Series(df_nombres.Nombre.values, index=df_nombres.Codigo).to_dict()\n",
    "# Renombrar las columnas en el DataFrame 'result'\n",
    "result.rename(columns=mapa_nombres, inplace=True)\n",
    "# Guardar el DataFrame 'result' en un nuevo archivo Excel\n",
    "result.to_excel(\"datos_ideam/resultados_concatenados.xlsx\")"
   ]
  }
 ],
 "metadata": {
  "kernelspec": {
   "display_name": "base",
   "language": "python",
   "name": "python3"
  },
  "language_info": {
   "codemirror_mode": {
    "name": "ipython",
    "version": 3
   },
   "file_extension": ".py",
   "mimetype": "text/x-python",
   "name": "python",
   "nbconvert_exporter": "python",
   "pygments_lexer": "ipython3",
   "version": "3.11.7"
  }
 },
 "nbformat": 4,
 "nbformat_minor": 5
}
